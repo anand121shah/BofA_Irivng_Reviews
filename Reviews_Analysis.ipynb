{
  "cells": [
    {
      "cell_type": "code",
      "source": [
        "import pandas as pd\n",
        "df = pd.read_excel('reviews.xlsx')\n",
        "df.head()"
      ],
      "outputs": [
        {
          "output_type": "display_data",
          "data": {
            "application/vnd.dataresource+json": {
              "schema": {
                "fields": [
                  {
                    "name": "index",
                    "type": "integer"
                  },
                  {
                    "name": "name",
                    "type": "string"
                  },
                  {
                    "name": "date",
                    "type": "string"
                  },
                  {
                    "name": "comment",
                    "type": "string"
                  },
                  {
                    "name": "response",
                    "type": "string"
                  },
                  {
                    "name": "location",
                    "type": "string"
                  }
                ],
                "primaryKey": [
                  "index"
                ],
                "pandas_version": "1.4.0"
              },
              "data": [
                {
                  "index": 0,
                  "name": "Jackie Guevara",
                  "date": "a month ago",
                  "comment": "Manager Luis Lopez is horrible service he will say he can’t assist you…. Even though you tell him what the problem is so he’ll say to wait 30-45 minutes for him to be available.",
                  "response": "Hi Jackie. Thanks for sharing feedback about your recent experience with Luis. We'd like to connect with you to learn more about what happened. Please reach out to our Social Media Client Care team https://twitter.com/BofA_Help on Twitter or click th",
                  "location": "2706 W Irving Blvd, Irving 75061"
                },
                {
                  "index": 1,
                  "name": "Jeffery Ensign",
                  "date": "7 months ago",
                  "comment": "The automated service is terrible!!! Like really terrible. I just want to past the automated service and talk to someone at the bank to see if they were busy for a walk in or needed to make an appointment. Need option to press 0# to bypass this! Bank",
                  "response": "Hi, Jeffery. We are sorry that we did not meet your expectations. Your feedback is very important to us and if you have any account related concerns, we would like the opportunity to speak with you. Please connect with our Social Media Client Care te",
                  "location": "2706 W Irving Blvd, Irving 75061"
                },
                {
                  "index": 2,
                  "name": "Wilber Argueta",
                  "date": "11 months ago",
                  "comment": "Sadly only one ATM machine ( all the way to the right side ) on the drive thru works the others don't have money if you wanna take some cash.. too bad 👎 …",
                  "response": null,
                  "location": "2706 W Irving Blvd, Irving 75061"
                },
                {
                  "index": 3,
                  "name": "K Williams",
                  "date": "a year ago",
                  "comment": "Racist employees. I had my own Ryan Coogler experience. This lady didn’t want to let me deposit my check because I was black. She didn’t even bother to look up my account or verify that I was who I said I was. The worst part about it is after she sai",
                  "response": "Hello. I apologize for your experience and your feedback will be escalated. Please reach out to our Social Media Client Care team on Twitter at https://twitter.com/BofA_Help or Facebook https://www.facebook.com/BankofAmerica and we will be in touch w",
                  "location": "2706 W Irving Blvd, Irving 75061"
                },
                {
                  "index": 4,
                  "name": "Dustin White",
                  "date": "10 months ago",
                  "comment": "Only go there if you have at least 30 min to waste. They only have one person helping behind the counter so even if the line is short will still take forever. Also only open 6 hrs a day M-F. Terrible customer service",
                  "response": "Hi Dustin. We appreciate you coming in. You may be able to save time by using an ATM or our mobile app. Signing up is simple: https://www.bankofamerica.com/online-banking/mobile-and-online-banking-features/overview/. ^ines",
                  "location": "2706 W Irving Blvd, Irving 75061"
                }
              ],
              "datalink": {
                "display_id": "e4c9fd61-353f-478f-966a-341702b7f6ca"
              }
            }
          },
          "metadata": {
            "application/vnd.dataresource+json": {
              "datalink": {
                "dataframe_info": {
                  "default_index_used": true,
                  "orig_size_bytes": 240,
                  "orig_num_rows": 5,
                  "orig_num_cols": 5,
                  "truncated_string_columns": [
                    "comment",
                    "response"
                  ],
                  "truncated_size_bytes": 240,
                  "truncated_num_rows": 5,
                  "truncated_num_cols": 5
                },
                "dx_settings": {
                  "NUM_PAST_SAMPLES_TRACKED": 3,
                  "ENABLE_DATALINK": true,
                  "DISPLAY_MODE": "simple",
                  "GENERATE_DEX_METADATA": false,
                  "STRINGIFY_INDEX_VALUES": false,
                  "ALLOW_NOTEABLE_ATTRS": true,
                  "DISPLAY_MAX_COLUMNS": 100,
                  "HTML_TABLE_SCHEMA": false,
                  "SAMPLING_FACTOR": 0.1,
                  "LOG_LEVEL": 30,
                  "ENABLE_ASSIGNMENT": true,
                  "FLATTEN_INDEX_VALUES": false,
                  "DEV_MODE": false,
                  "COLUMN_SAMPLING_METHOD": "outer",
                  "FLATTEN_COLUMN_VALUES": true,
                  "DISPLAY_MAX_ROWS": 50000,
                  "ROW_SAMPLING_METHOD": "random",
                  "RANDOM_STATE": 12648430,
                  "DB_LOCATION": ":memory:",
                  "STRINGIFY_COLUMN_VALUES": true,
                  "SAMPLING_METHOD": "random",
                  "MAX_STRING_LENGTH": 250,
                  "MAX_RENDER_SIZE_BYTES": 104857600,
                  "RESET_INDEX_VALUES": false
                },
                "display_id": "e4c9fd61-353f-478f-966a-341702b7f6ca",
                "applied_filters": [],
                "sample_history": [],
                "sampling_time": "2023-07-31T01:51:10.781226",
                "variable_name": "unk_dataframe_64a7fc58553a4fb4863c70d893b7cd16",
                "user_variable_name": null
              },
              "display_id": "e4c9fd61-353f-478f-966a-341702b7f6ca"
            }
          }
        }
      ],
      "execution_count": null,
      "metadata": {
        "noteable": {
          "cell_type": "code"
        },
        "ExecuteTime": {
          "end_time": "2023-07-31T01:51:10.938942+00:00",
          "start_time": "2023-07-31T01:51:10.525803+00:00"
        },
        "datalink": {
          "e4c9fd61-353f-478f-966a-341702b7f6ca": {
            "applied_filters": [],
            "dataframe_info": {
              "default_index_used": true,
              "orig_num_cols": 5,
              "orig_num_rows": 5,
              "orig_size_bytes": 240,
              "truncated_num_cols": 5,
              "truncated_num_rows": 5,
              "truncated_size_bytes": 240,
              "truncated_string_columns": [
                "comment",
                "response"
              ]
            },
            "display_id": "e4c9fd61-353f-478f-966a-341702b7f6ca",
            "dx_settings": {
              "ALLOW_NOTEABLE_ATTRS": true,
              "COLUMN_SAMPLING_METHOD": "outer",
              "DB_LOCATION": ":memory:",
              "DEV_MODE": false,
              "DISPLAY_MAX_COLUMNS": 100,
              "DISPLAY_MAX_ROWS": 50000,
              "DISPLAY_MODE": "simple",
              "ENABLE_ASSIGNMENT": true,
              "ENABLE_DATALINK": true,
              "FLATTEN_COLUMN_VALUES": true,
              "FLATTEN_INDEX_VALUES": false,
              "GENERATE_DEX_METADATA": false,
              "HTML_TABLE_SCHEMA": false,
              "LOG_LEVEL": 30,
              "MAX_RENDER_SIZE_BYTES": 104857600,
              "MAX_STRING_LENGTH": 250,
              "NUM_PAST_SAMPLES_TRACKED": 3,
              "RANDOM_STATE": 12648430,
              "RESET_INDEX_VALUES": false,
              "ROW_SAMPLING_METHOD": "random",
              "SAMPLING_FACTOR": 0.1,
              "SAMPLING_METHOD": "random",
              "STRINGIFY_COLUMN_VALUES": true,
              "STRINGIFY_INDEX_VALUES": false
            },
            "sample_history": [],
            "sampling_time": "2023-07-31T01:51:10.781226",
            "user_variable_name": null,
            "variable_name": "unk_dataframe_64a7fc58553a4fb4863c70d893b7cd16"
          }
        }
      },
      "id": "3ce6bd79-2e0a-40ac-9a3a-82f9eba309bd"
    },
    {
      "cell_type": "code",
      "source": [
        "!pip install -q nltk\n",
        "import nltk\n",
        "nltk.download('punkt')\n",
        "nltk.download('stopwords')\n",
        "nltk.download('wordnet')\n",
        "from nltk.corpus import stopwords\n",
        "from nltk.stem import WordNetLemmatizer\n",
        "from nltk.tokenize import word_tokenize\n",
        "import string\n",
        "stop_words = set(stopwords.words('english'))\n",
        "lemmatizer = WordNetLemmatizer()\n",
        "def preprocess_text(text):\n",
        "    text = text.lower()\n",
        "    text = ''.join([c for c in text if c not in string.punctuation])\n",
        "    tokens = word_tokenize(text)\n",
        "    tokens = [lemmatizer.lemmatize(token) for token in tokens if token not in stop_words]\n",
        "    return ' '.join(tokens)\n",
        "df['processed_comment'] = df['comment'].apply(preprocess_text)\n",
        "df.head()"
      ],
      "outputs": [
        {
          "output_type": "stream",
          "name": "stderr",
          "text": [
            "[nltk_data] Downloading package punkt to /home/noteable/nltk_data...\n",
            "[nltk_data]   Unzipping tokenizers/punkt.zip.\n"
          ]
        },
        {
          "output_type": "stream",
          "name": "stderr",
          "text": [
            "[nltk_data] Downloading package stopwords to\n",
            "[nltk_data]     /home/noteable/nltk_data...\n",
            "[nltk_data]   Unzipping corpora/stopwords.zip.\n",
            "[nltk_data] Downloading package wordnet to /home/noteable/nltk_data...\n"
          ]
        },
        {
          "output_type": "display_data",
          "data": {
            "application/vnd.dataresource+json": {
              "schema": {
                "fields": [
                  {
                    "name": "index",
                    "type": "integer"
                  },
                  {
                    "name": "name",
                    "type": "string"
                  },
                  {
                    "name": "date",
                    "type": "string"
                  },
                  {
                    "name": "comment",
                    "type": "string"
                  },
                  {
                    "name": "response",
                    "type": "string"
                  },
                  {
                    "name": "location",
                    "type": "string"
                  },
                  {
                    "name": "processed_comment",
                    "type": "string"
                  }
                ],
                "primaryKey": [
                  "index"
                ],
                "pandas_version": "1.4.0"
              },
              "data": [
                {
                  "index": 0,
                  "name": "Jackie Guevara",
                  "date": "a month ago",
                  "comment": "Manager Luis Lopez is horrible service he will say he can’t assist you…. Even though you tell him what the problem is so he’ll say to wait 30-45 minutes for him to be available.",
                  "response": "Hi Jackie. Thanks for sharing feedback about your recent experience with Luis. We'd like to connect with you to learn more about what happened. Please reach out to our Social Media Client Care team https://twitter.com/BofA_Help on Twitter or click th",
                  "location": "2706 W Irving Blvd, Irving 75061",
                  "processed_comment": "manager luis lopez horrible service say ’ assist you… even though tell problem ’ say wait 3045 minute available"
                },
                {
                  "index": 1,
                  "name": "Jeffery Ensign",
                  "date": "7 months ago",
                  "comment": "The automated service is terrible!!! Like really terrible. I just want to past the automated service and talk to someone at the bank to see if they were busy for a walk in or needed to make an appointment. Need option to press 0# to bypass this! Bank",
                  "response": "Hi, Jeffery. We are sorry that we did not meet your expectations. Your feedback is very important to us and if you have any account related concerns, we would like the opportunity to speak with you. Please connect with our Social Media Client Care te",
                  "location": "2706 W Irving Blvd, Irving 75061",
                  "processed_comment": "automated service terrible like really terrible want past automated service talk someone bank see busy walk needed make appointment need option press 0 bypass bank america expect better better"
                },
                {
                  "index": 2,
                  "name": "Wilber Argueta",
                  "date": "11 months ago",
                  "comment": "Sadly only one ATM machine ( all the way to the right side ) on the drive thru works the others don't have money if you wanna take some cash.. too bad 👎 …",
                  "response": null,
                  "location": "2706 W Irving Blvd, Irving 75061",
                  "processed_comment": "sadly one atm machine way right side drive thru work others dont money wan na take cash bad 👎 …"
                },
                {
                  "index": 3,
                  "name": "K Williams",
                  "date": "a year ago",
                  "comment": "Racist employees. I had my own Ryan Coogler experience. This lady didn’t want to let me deposit my check because I was black. She didn’t even bother to look up my account or verify that I was who I said I was. The worst part about it is after she sai",
                  "response": "Hello. I apologize for your experience and your feedback will be escalated. Please reach out to our Social Media Client Care team on Twitter at https://twitter.com/BofA_Help or Facebook https://www.facebook.com/BankofAmerica and we will be in touch w",
                  "location": "2706 W Irving Blvd, Irving 75061",
                  "processed_comment": "racist employee ryan coogler experience lady ’ want let deposit check black ’ even bother look account verify said worst part said ’ deposit check mobile deposit went day know lying gave lame excuse able deposit check looking another place bank type "
                },
                {
                  "index": 4,
                  "name": "Dustin White",
                  "date": "10 months ago",
                  "comment": "Only go there if you have at least 30 min to waste. They only have one person helping behind the counter so even if the line is short will still take forever. Also only open 6 hrs a day M-F. Terrible customer service",
                  "response": "Hi Dustin. We appreciate you coming in. You may be able to save time by using an ATM or our mobile app. Signing up is simple: https://www.bankofamerica.com/online-banking/mobile-and-online-banking-features/overview/. ^ines",
                  "location": "2706 W Irving Blvd, Irving 75061",
                  "processed_comment": "go least 30 min waste one person helping behind counter even line short still take forever also open 6 hr day mf terrible customer service"
                }
              ],
              "datalink": {
                "display_id": "1fb1d805-31a2-4452-aa01-35e9b5acd135"
              }
            }
          },
          "metadata": {
            "application/vnd.dataresource+json": {
              "datalink": {
                "dataframe_info": {
                  "default_index_used": true,
                  "orig_size_bytes": 280,
                  "orig_num_rows": 5,
                  "orig_num_cols": 6,
                  "truncated_string_columns": [
                    "comment",
                    "response",
                    "processed_comment"
                  ],
                  "truncated_size_bytes": 280,
                  "truncated_num_rows": 5,
                  "truncated_num_cols": 6
                },
                "dx_settings": {
                  "NUM_PAST_SAMPLES_TRACKED": 3,
                  "ENABLE_DATALINK": true,
                  "DISPLAY_MODE": "simple",
                  "GENERATE_DEX_METADATA": false,
                  "STRINGIFY_INDEX_VALUES": false,
                  "ALLOW_NOTEABLE_ATTRS": true,
                  "DISPLAY_MAX_COLUMNS": 100,
                  "HTML_TABLE_SCHEMA": false,
                  "SAMPLING_FACTOR": 0.1,
                  "LOG_LEVEL": 30,
                  "ENABLE_ASSIGNMENT": true,
                  "FLATTEN_INDEX_VALUES": false,
                  "DEV_MODE": false,
                  "COLUMN_SAMPLING_METHOD": "outer",
                  "FLATTEN_COLUMN_VALUES": true,
                  "DISPLAY_MAX_ROWS": 50000,
                  "ROW_SAMPLING_METHOD": "random",
                  "RANDOM_STATE": 12648430,
                  "DB_LOCATION": ":memory:",
                  "STRINGIFY_COLUMN_VALUES": true,
                  "SAMPLING_METHOD": "random",
                  "MAX_STRING_LENGTH": 250,
                  "MAX_RENDER_SIZE_BYTES": 104857600,
                  "RESET_INDEX_VALUES": false
                },
                "display_id": "1fb1d805-31a2-4452-aa01-35e9b5acd135",
                "applied_filters": [],
                "sample_history": [],
                "sampling_time": "2023-07-31T01:53:13.268631",
                "variable_name": "unk_dataframe_9315bea560e2458aa1133f44616a45c7",
                "user_variable_name": null
              },
              "display_id": "1fb1d805-31a2-4452-aa01-35e9b5acd135"
            }
          }
        }
      ],
      "execution_count": null,
      "metadata": {
        "noteable": {
          "cell_type": "code"
        },
        "ExecuteTime": {
          "end_time": "2023-07-31T01:53:13.426006+00:00",
          "start_time": "2023-07-31T01:53:04.021437+00:00"
        },
        "datalink": {
          "1fb1d805-31a2-4452-aa01-35e9b5acd135": {
            "applied_filters": [],
            "dataframe_info": {
              "default_index_used": true,
              "orig_num_cols": 6,
              "orig_num_rows": 5,
              "orig_size_bytes": 280,
              "truncated_num_cols": 6,
              "truncated_num_rows": 5,
              "truncated_size_bytes": 280,
              "truncated_string_columns": [
                "comment",
                "response",
                "processed_comment"
              ]
            },
            "display_id": "1fb1d805-31a2-4452-aa01-35e9b5acd135",
            "dx_settings": {
              "ALLOW_NOTEABLE_ATTRS": true,
              "COLUMN_SAMPLING_METHOD": "outer",
              "DB_LOCATION": ":memory:",
              "DEV_MODE": false,
              "DISPLAY_MAX_COLUMNS": 100,
              "DISPLAY_MAX_ROWS": 50000,
              "DISPLAY_MODE": "simple",
              "ENABLE_ASSIGNMENT": true,
              "ENABLE_DATALINK": true,
              "FLATTEN_COLUMN_VALUES": true,
              "FLATTEN_INDEX_VALUES": false,
              "GENERATE_DEX_METADATA": false,
              "HTML_TABLE_SCHEMA": false,
              "LOG_LEVEL": 30,
              "MAX_RENDER_SIZE_BYTES": 104857600,
              "MAX_STRING_LENGTH": 250,
              "NUM_PAST_SAMPLES_TRACKED": 3,
              "RANDOM_STATE": 12648430,
              "RESET_INDEX_VALUES": false,
              "ROW_SAMPLING_METHOD": "random",
              "SAMPLING_FACTOR": 0.1,
              "SAMPLING_METHOD": "random",
              "STRINGIFY_COLUMN_VALUES": true,
              "STRINGIFY_INDEX_VALUES": false
            },
            "sample_history": [],
            "sampling_time": "2023-07-31T01:53:13.268631",
            "user_variable_name": null,
            "variable_name": "unk_dataframe_9315bea560e2458aa1133f44616a45c7"
          }
        }
      },
      "id": "4f1001f3-8776-462a-a8da-bc77e7852b9e"
    },
    {
      "cell_type": "code",
      "source": [
        "from sklearn.feature_extraction.text import TfidfVectorizer\n",
        "vectorizer = TfidfVectorizer(max_features=1000)\n",
        "features = vectorizer.fit_transform(df['processed_comment']).toarray()\n",
        "features.shape"
      ],
      "outputs": [
        {
          "output_type": "execute_result",
          "execution_count": null,
          "data": {
            "text/plain": "(191, 876)"
          },
          "metadata": {}
        }
      ],
      "execution_count": null,
      "metadata": {
        "noteable": {
          "cell_type": "code"
        },
        "ExecuteTime": {
          "end_time": "2023-07-31T01:53:53.965947+00:00",
          "start_time": "2023-07-31T01:53:53.792687+00:00"
        }
      },
      "id": "b22b360a-54e7-4678-a685-8fb5f80171f0"
    },
    {
      "cell_type": "code",
      "source": [
        "!pip install -q textblob\n",
        "from textblob import TextBlob\n",
        "def get_sentiment(text):\n",
        "    blob = TextBlob(text)\n",
        "    if blob.sentiment.polarity > 0:\n",
        "        return 'positive'\n",
        "    elif blob.sentiment.polarity == 0:\n",
        "        return 'neutral'\n",
        "    else:\n",
        "        return 'negative'\n",
        "df['sentiment'] = df['processed_comment'].apply(get_sentiment)\n",
        "df.head()"
      ],
      "outputs": [
        {
          "output_type": "display_data",
          "data": {
            "application/vnd.dataresource+json": {
              "schema": {
                "fields": [
                  {
                    "name": "index",
                    "type": "integer"
                  },
                  {
                    "name": "name",
                    "type": "string"
                  },
                  {
                    "name": "date",
                    "type": "string"
                  },
                  {
                    "name": "comment",
                    "type": "string"
                  },
                  {
                    "name": "response",
                    "type": "string"
                  },
                  {
                    "name": "location",
                    "type": "string"
                  },
                  {
                    "name": "processed_comment",
                    "type": "string"
                  },
                  {
                    "name": "sentiment",
                    "type": "string"
                  }
                ],
                "primaryKey": [
                  "index"
                ],
                "pandas_version": "1.4.0"
              },
              "data": [
                {
                  "index": 0,
                  "name": "Jackie Guevara",
                  "date": "a month ago",
                  "comment": "Manager Luis Lopez is horrible service he will say he can’t assist you…. Even though you tell him what the problem is so he’ll say to wait 30-45 minutes for him to be available.",
                  "response": "Hi Jackie. Thanks for sharing feedback about your recent experience with Luis. We'd like to connect with you to learn more about what happened. Please reach out to our Social Media Client Care team https://twitter.com/BofA_Help on Twitter or click th",
                  "location": "2706 W Irving Blvd, Irving 75061",
                  "processed_comment": "manager luis lopez horrible service say ’ assist you… even though tell problem ’ say wait 3045 minute available",
                  "sentiment": "negative"
                },
                {
                  "index": 1,
                  "name": "Jeffery Ensign",
                  "date": "7 months ago",
                  "comment": "The automated service is terrible!!! Like really terrible. I just want to past the automated service and talk to someone at the bank to see if they were busy for a walk in or needed to make an appointment. Need option to press 0# to bypass this! Bank",
                  "response": "Hi, Jeffery. We are sorry that we did not meet your expectations. Your feedback is very important to us and if you have any account related concerns, we would like the opportunity to speak with you. Please connect with our Social Media Client Care te",
                  "location": "2706 W Irving Blvd, Irving 75061",
                  "processed_comment": "automated service terrible like really terrible want past automated service talk someone bank see busy walk needed make appointment need option press 0 bypass bank america expect better better",
                  "sentiment": "negative"
                },
                {
                  "index": 2,
                  "name": "Wilber Argueta",
                  "date": "11 months ago",
                  "comment": "Sadly only one ATM machine ( all the way to the right side ) on the drive thru works the others don't have money if you wanna take some cash.. too bad 👎 …",
                  "response": null,
                  "location": "2706 W Irving Blvd, Irving 75061",
                  "processed_comment": "sadly one atm machine way right side drive thru work others dont money wan na take cash bad 👎 …",
                  "sentiment": "negative"
                },
                {
                  "index": 3,
                  "name": "K Williams",
                  "date": "a year ago",
                  "comment": "Racist employees. I had my own Ryan Coogler experience. This lady didn’t want to let me deposit my check because I was black. She didn’t even bother to look up my account or verify that I was who I said I was. The worst part about it is after she sai",
                  "response": "Hello. I apologize for your experience and your feedback will be escalated. Please reach out to our Social Media Client Care team on Twitter at https://twitter.com/BofA_Help or Facebook https://www.facebook.com/BankofAmerica and we will be in touch w",
                  "location": "2706 W Irving Blvd, Irving 75061",
                  "processed_comment": "racist employee ryan coogler experience lady ’ want let deposit check black ’ even bother look account verify said worst part said ’ deposit check mobile deposit went day know lying gave lame excuse able deposit check looking another place bank type ",
                  "sentiment": "negative"
                },
                {
                  "index": 4,
                  "name": "Dustin White",
                  "date": "10 months ago",
                  "comment": "Only go there if you have at least 30 min to waste. They only have one person helping behind the counter so even if the line is short will still take forever. Also only open 6 hrs a day M-F. Terrible customer service",
                  "response": "Hi Dustin. We appreciate you coming in. You may be able to save time by using an ATM or our mobile app. Signing up is simple: https://www.bankofamerica.com/online-banking/mobile-and-online-banking-features/overview/. ^ines",
                  "location": "2706 W Irving Blvd, Irving 75061",
                  "processed_comment": "go least 30 min waste one person helping behind counter even line short still take forever also open 6 hr day mf terrible customer service",
                  "sentiment": "negative"
                }
              ],
              "datalink": {
                "display_id": "ea0941b1-df71-45e7-9e42-84c2cf63b5b0"
              }
            }
          },
          "metadata": {
            "application/vnd.dataresource+json": {
              "datalink": {
                "dataframe_info": {
                  "default_index_used": true,
                  "orig_size_bytes": 320,
                  "orig_num_rows": 5,
                  "orig_num_cols": 7,
                  "truncated_string_columns": [
                    "comment",
                    "response",
                    "processed_comment"
                  ],
                  "truncated_size_bytes": 320,
                  "truncated_num_rows": 5,
                  "truncated_num_cols": 7
                },
                "dx_settings": {
                  "NUM_PAST_SAMPLES_TRACKED": 3,
                  "ENABLE_DATALINK": true,
                  "DISPLAY_MODE": "simple",
                  "GENERATE_DEX_METADATA": false,
                  "STRINGIFY_INDEX_VALUES": false,
                  "ALLOW_NOTEABLE_ATTRS": true,
                  "DISPLAY_MAX_COLUMNS": 100,
                  "HTML_TABLE_SCHEMA": false,
                  "SAMPLING_FACTOR": 0.1,
                  "LOG_LEVEL": 30,
                  "ENABLE_ASSIGNMENT": true,
                  "FLATTEN_INDEX_VALUES": false,
                  "DEV_MODE": false,
                  "COLUMN_SAMPLING_METHOD": "outer",
                  "FLATTEN_COLUMN_VALUES": true,
                  "DISPLAY_MAX_ROWS": 50000,
                  "ROW_SAMPLING_METHOD": "random",
                  "RANDOM_STATE": 12648430,
                  "DB_LOCATION": ":memory:",
                  "STRINGIFY_COLUMN_VALUES": true,
                  "SAMPLING_METHOD": "random",
                  "MAX_STRING_LENGTH": 250,
                  "MAX_RENDER_SIZE_BYTES": 104857600,
                  "RESET_INDEX_VALUES": false
                },
                "display_id": "ea0941b1-df71-45e7-9e42-84c2cf63b5b0",
                "applied_filters": [],
                "sample_history": [],
                "sampling_time": "2023-07-31T01:54:23.095168",
                "variable_name": "unk_dataframe_150e6765acc2400983b9a5ced02ab043",
                "user_variable_name": null
              },
              "display_id": "ea0941b1-df71-45e7-9e42-84c2cf63b5b0"
            }
          }
        }
      ],
      "execution_count": null,
      "metadata": {
        "noteable": {
          "cell_type": "code"
        },
        "ExecuteTime": {
          "end_time": "2023-07-31T01:54:23.252962+00:00",
          "start_time": "2023-07-31T01:54:17.551233+00:00"
        },
        "datalink": {
          "ea0941b1-df71-45e7-9e42-84c2cf63b5b0": {
            "applied_filters": [],
            "dataframe_info": {
              "default_index_used": true,
              "orig_num_cols": 7,
              "orig_num_rows": 5,
              "orig_size_bytes": 320,
              "truncated_num_cols": 7,
              "truncated_num_rows": 5,
              "truncated_size_bytes": 320,
              "truncated_string_columns": [
                "comment",
                "response",
                "processed_comment"
              ]
            },
            "display_id": "ea0941b1-df71-45e7-9e42-84c2cf63b5b0",
            "dx_settings": {
              "ALLOW_NOTEABLE_ATTRS": true,
              "COLUMN_SAMPLING_METHOD": "outer",
              "DB_LOCATION": ":memory:",
              "DEV_MODE": false,
              "DISPLAY_MAX_COLUMNS": 100,
              "DISPLAY_MAX_ROWS": 50000,
              "DISPLAY_MODE": "simple",
              "ENABLE_ASSIGNMENT": true,
              "ENABLE_DATALINK": true,
              "FLATTEN_COLUMN_VALUES": true,
              "FLATTEN_INDEX_VALUES": false,
              "GENERATE_DEX_METADATA": false,
              "HTML_TABLE_SCHEMA": false,
              "LOG_LEVEL": 30,
              "MAX_RENDER_SIZE_BYTES": 104857600,
              "MAX_STRING_LENGTH": 250,
              "NUM_PAST_SAMPLES_TRACKED": 3,
              "RANDOM_STATE": 12648430,
              "RESET_INDEX_VALUES": false,
              "ROW_SAMPLING_METHOD": "random",
              "SAMPLING_FACTOR": 0.1,
              "SAMPLING_METHOD": "random",
              "STRINGIFY_COLUMN_VALUES": true,
              "STRINGIFY_INDEX_VALUES": false
            },
            "sample_history": [],
            "sampling_time": "2023-07-31T01:54:23.095168",
            "user_variable_name": null,
            "variable_name": "unk_dataframe_150e6765acc2400983b9a5ced02ab043"
          }
        }
      },
      "id": "270ce190-3b51-48c9-a3e5-26c72538164d"
    },
    {
      "cell_type": "code",
      "source": [
        "!pip install -q gensim\n",
        "from gensim import corpora, models\n",
        "processed_comments = df['processed_comment'].apply(word_tokenize)\n",
        "dictionary = corpora.Dictionary(processed_comments)\n",
        "corpus = [dictionary.doc2bow(text) for text in processed_comments]\n",
        "lda_model = models.LdaModel(corpus, num_topics=5, id2word=dictionary, passes=10)\n",
        "topics = lda_model.print_topics(num_words=5)\n",
        "topics"
      ],
      "outputs": [
        {
          "output_type": "execute_result",
          "execution_count": null,
          "data": {
            "text/plain": "[(0,\n  '0.041*\"service\" + 0.031*\"customer\" + 0.018*\"teller\" + 0.016*\"bank\" + 0.014*\"one\"'),\n (1,\n  '0.017*\"line\" + 0.013*\"one\" + 0.013*\"account\" + 0.010*\"open\" + 0.010*\"’\"'),\n (2,\n  '0.033*\"bank\" + 0.028*\"customer\" + 0.023*\"service\" + 0.016*\"worst\" + 0.015*\"teller\"'),\n (3,\n  '0.030*\"bank\" + 0.016*\"service\" + 0.015*\"people\" + 0.014*\"customer\" + 0.013*\"good\"'),\n (4,\n  '0.015*\"’\" + 0.015*\"check\" + 0.014*\"deposit\" + 0.013*\"always\" + 0.013*\"customer\"')]"
          },
          "metadata": {}
        }
      ],
      "execution_count": null,
      "metadata": {
        "noteable": {
          "cell_type": "code"
        },
        "ExecuteTime": {
          "end_time": "2023-07-31T01:55:20.967392+00:00",
          "start_time": "2023-07-31T01:55:12.731226+00:00"
        }
      },
      "id": "0a40e950-ee4d-4b51-b144-a6289a9ee12a"
    },
    {
      "cell_type": "code",
      "source": [
        "df['sentiment_value'] = df['sentiment'].map({'positive': 1, 'neutral': 0, 'negative': -1})\n",
        "df['date'] = pd.to_datetime(df['date'], errors='coerce')\n",
        "df['month'] = df['date'].dt.month\n",
        "df['day_of_week'] = df['date'].dt.dayofweek\n",
        "correlation = df[['sentiment_value', 'month', 'day_of_week']].corr()\n",
        "correlation"
      ],
      "outputs": [
        {
          "output_type": "display_data",
          "data": {
            "application/vnd.dataresource+json": {
              "schema": {
                "fields": [
                  {
                    "name": "index",
                    "type": "string"
                  },
                  {
                    "name": "sentiment_value",
                    "type": "number"
                  },
                  {
                    "name": "month",
                    "type": "number"
                  },
                  {
                    "name": "day_of_week",
                    "type": "number"
                  }
                ],
                "primaryKey": [
                  "index"
                ],
                "pandas_version": "1.4.0"
              },
              "data": [
                {
                  "index": "sentiment_value",
                  "sentiment_value": 1,
                  "month": null,
                  "day_of_week": null
                },
                {
                  "index": "month",
                  "sentiment_value": null,
                  "month": null,
                  "day_of_week": null
                },
                {
                  "index": "day_of_week",
                  "sentiment_value": null,
                  "month": null,
                  "day_of_week": null
                }
              ],
              "datalink": {
                "display_id": "391a70d2-99d3-499a-9402-bb0f484a479a"
              }
            }
          },
          "metadata": {
            "application/vnd.dataresource+json": {
              "datalink": {
                "dataframe_info": {
                  "default_index_used": false,
                  "orig_size_bytes": 96,
                  "orig_num_rows": 3,
                  "orig_num_cols": 3,
                  "truncated_string_columns": [],
                  "truncated_size_bytes": 96,
                  "truncated_num_rows": 3,
                  "truncated_num_cols": 3
                },
                "dx_settings": {
                  "NUM_PAST_SAMPLES_TRACKED": 3,
                  "ENABLE_DATALINK": true,
                  "DISPLAY_MODE": "simple",
                  "GENERATE_DEX_METADATA": false,
                  "STRINGIFY_INDEX_VALUES": false,
                  "ALLOW_NOTEABLE_ATTRS": true,
                  "DISPLAY_MAX_COLUMNS": 100,
                  "HTML_TABLE_SCHEMA": false,
                  "SAMPLING_FACTOR": 0.1,
                  "LOG_LEVEL": 30,
                  "ENABLE_ASSIGNMENT": true,
                  "FLATTEN_INDEX_VALUES": false,
                  "DEV_MODE": false,
                  "COLUMN_SAMPLING_METHOD": "outer",
                  "FLATTEN_COLUMN_VALUES": true,
                  "DISPLAY_MAX_ROWS": 50000,
                  "ROW_SAMPLING_METHOD": "random",
                  "RANDOM_STATE": 12648430,
                  "DB_LOCATION": ":memory:",
                  "STRINGIFY_COLUMN_VALUES": true,
                  "SAMPLING_METHOD": "random",
                  "MAX_STRING_LENGTH": 250,
                  "MAX_RENDER_SIZE_BYTES": 104857600,
                  "RESET_INDEX_VALUES": false
                },
                "display_id": "391a70d2-99d3-499a-9402-bb0f484a479a",
                "applied_filters": [],
                "sample_history": [],
                "sampling_time": "2023-07-31T01:55:46.554615",
                "variable_name": "correlation",
                "user_variable_name": "correlation"
              },
              "display_id": "391a70d2-99d3-499a-9402-bb0f484a479a"
            }
          }
        }
      ],
      "execution_count": null,
      "metadata": {
        "noteable": {
          "cell_type": "code"
        },
        "ExecuteTime": {
          "end_time": "2023-07-31T01:55:46.712336+00:00",
          "start_time": "2023-07-31T01:55:46.489365+00:00"
        },
        "datalink": {
          "391a70d2-99d3-499a-9402-bb0f484a479a": {
            "applied_filters": [],
            "dataframe_info": {
              "default_index_used": false,
              "orig_num_cols": 3,
              "orig_num_rows": 3,
              "orig_size_bytes": 96,
              "truncated_num_cols": 3,
              "truncated_num_rows": 3,
              "truncated_size_bytes": 96,
              "truncated_string_columns": []
            },
            "display_id": "391a70d2-99d3-499a-9402-bb0f484a479a",
            "dx_settings": {
              "ALLOW_NOTEABLE_ATTRS": true,
              "COLUMN_SAMPLING_METHOD": "outer",
              "DB_LOCATION": ":memory:",
              "DEV_MODE": false,
              "DISPLAY_MAX_COLUMNS": 100,
              "DISPLAY_MAX_ROWS": 50000,
              "DISPLAY_MODE": "simple",
              "ENABLE_ASSIGNMENT": true,
              "ENABLE_DATALINK": true,
              "FLATTEN_COLUMN_VALUES": true,
              "FLATTEN_INDEX_VALUES": false,
              "GENERATE_DEX_METADATA": false,
              "HTML_TABLE_SCHEMA": false,
              "LOG_LEVEL": 30,
              "MAX_RENDER_SIZE_BYTES": 104857600,
              "MAX_STRING_LENGTH": 250,
              "NUM_PAST_SAMPLES_TRACKED": 3,
              "RANDOM_STATE": 12648430,
              "RESET_INDEX_VALUES": false,
              "ROW_SAMPLING_METHOD": "random",
              "SAMPLING_FACTOR": 0.1,
              "SAMPLING_METHOD": "random",
              "STRINGIFY_COLUMN_VALUES": true,
              "STRINGIFY_INDEX_VALUES": false
            },
            "sample_history": [],
            "sampling_time": "2023-07-31T01:55:46.554615",
            "user_variable_name": "correlation",
            "variable_name": "correlation"
          }
        }
      },
      "id": "5184a4ca-2459-4028-b261-4eb70d4b6a87"
    },
    {
      "cell_type": "code",
      "source": [
        "import matplotlib.pyplot as plt\n",
        "import seaborn as sns\n",
        "plt.figure(figsize=(10,6))\n",
        "sns.countplot(data=df, x='location', hue='sentiment')\n",
        "plt.xticks(rotation=90)\n",
        "plt.title('Distribution of Sentiments across Different Locations')\n",
        "plt.show()"
      ],
      "outputs": [
        {
          "output_type": "display_data",
          "data": {
            "image/png": "[encoded data removed]"
          },
          "metadata": {}
        }
      ],
      "execution_count": null,
      "metadata": {
        "noteable": {
          "cell_type": "code"
        },
        "ExecuteTime": {
          "end_time": "2023-07-31T01:56:08.902309+00:00",
          "start_time": "2023-07-31T01:56:07.794613+00:00"
        }
      },
      "id": "a16fdcc9-610c-41a0-8bd5-812776ecd550"
    },
    {
      "cell_type": "code",
      "source": [],
      "outputs": [
        {
          "output_type": "error",
          "ename": "TypeError",
          "evalue": "Input type must be str",
          "traceback": [
            "\u001b[0;31m---------------------------------------------------------------------------\u001b[0m",
            "\u001b[0;31mTypeError\u001b[0m                                 Traceback (most recent call last)",
            "Cell \u001b[0;32mIn[8], line 5\u001b[0m\n\u001b[1;32m      3\u001b[0m \u001b[38;5;28;01mfrom\u001b[39;00m \u001b[38;5;21;01mdatetime\u001b[39;00m \u001b[38;5;28;01mimport\u001b[39;00m datetime\n\u001b[1;32m      4\u001b[0m reference_date \u001b[38;5;241m=\u001b[39m datetime\u001b[38;5;241m.\u001b[39mnow()\n\u001b[0;32m----> 5\u001b[0m df[\u001b[38;5;124m'\u001b[39m\u001b[38;5;124mactual_date\u001b[39m\u001b[38;5;124m'\u001b[39m] \u001b[38;5;241m=\u001b[39m \u001b[43mdf\u001b[49m\u001b[43m[\u001b[49m\u001b[38;5;124;43m'\u001b[39;49m\u001b[38;5;124;43mdate\u001b[39;49m\u001b[38;5;124;43m'\u001b[39;49m\u001b[43m]\u001b[49m\u001b[38;5;241;43m.\u001b[39;49m\u001b[43mapply\u001b[49m\u001b[43m(\u001b[49m\u001b[38;5;28;43;01mlambda\u001b[39;49;00m\u001b[43m \u001b[49m\u001b[43mx\u001b[49m\u001b[43m:\u001b[49m\u001b[43m \u001b[49m\u001b[43mdateparser\u001b[49m\u001b[38;5;241;43m.\u001b[39;49m\u001b[43mparse\u001b[49m\u001b[43m(\u001b[49m\u001b[43mx\u001b[49m\u001b[43m,\u001b[49m\u001b[43m \u001b[49m\u001b[43msettings\u001b[49m\u001b[38;5;241;43m=\u001b[39;49m\u001b[43m{\u001b[49m\u001b[38;5;124;43m'\u001b[39;49m\u001b[38;5;124;43mRELATIVE_BASE\u001b[39;49m\u001b[38;5;124;43m'\u001b[39;49m\u001b[43m:\u001b[49m\u001b[43m \u001b[49m\u001b[43mreference_date\u001b[49m\u001b[43m}\u001b[49m\u001b[43m)\u001b[49m\u001b[43m)\u001b[49m\n\u001b[1;32m      6\u001b[0m df\u001b[38;5;241m.\u001b[39mhead()\n",
            "File \u001b[0;32m/opt/conda/lib/python3.9/site-packages/pandas/core/series.py:4771\u001b[0m, in \u001b[0;36mSeries.apply\u001b[0;34m(self, func, convert_dtype, args, **kwargs)\u001b[0m\n\u001b[1;32m   4661\u001b[0m \u001b[38;5;28;01mdef\u001b[39;00m \u001b[38;5;21mapply\u001b[39m(\n\u001b[1;32m   4662\u001b[0m     \u001b[38;5;28mself\u001b[39m,\n\u001b[1;32m   4663\u001b[0m     func: AggFuncType,\n\u001b[0;32m   (...)\u001b[0m\n\u001b[1;32m   4666\u001b[0m     \u001b[38;5;241m*\u001b[39m\u001b[38;5;241m*\u001b[39mkwargs,\n\u001b[1;32m   4667\u001b[0m ) \u001b[38;5;241m-\u001b[39m\u001b[38;5;241m>\u001b[39m DataFrame \u001b[38;5;241m|\u001b[39m Series:\n\u001b[1;32m   4668\u001b[0m \u001b[38;5;250m    \u001b[39m\u001b[38;5;124;03m\"\"\"\u001b[39;00m\n\u001b[1;32m   4669\u001b[0m \u001b[38;5;124;03m    Invoke function on values of Series.\u001b[39;00m\n\u001b[1;32m   4670\u001b[0m \n\u001b[0;32m   (...)\u001b[0m\n\u001b[1;32m   4769\u001b[0m \u001b[38;5;124;03m    dtype: float64\u001b[39;00m\n\u001b[1;32m   4770\u001b[0m \u001b[38;5;124;03m    \"\"\"\u001b[39;00m\n\u001b[0;32m-> 4771\u001b[0m     \u001b[38;5;28;01mreturn\u001b[39;00m \u001b[43mSeriesApply\u001b[49m\u001b[43m(\u001b[49m\u001b[38;5;28;43mself\u001b[39;49m\u001b[43m,\u001b[49m\u001b[43m \u001b[49m\u001b[43mfunc\u001b[49m\u001b[43m,\u001b[49m\u001b[43m \u001b[49m\u001b[43mconvert_dtype\u001b[49m\u001b[43m,\u001b[49m\u001b[43m \u001b[49m\u001b[43margs\u001b[49m\u001b[43m,\u001b[49m\u001b[43m \u001b[49m\u001b[43mkwargs\u001b[49m\u001b[43m)\u001b[49m\u001b[38;5;241;43m.\u001b[39;49m\u001b[43mapply\u001b[49m\u001b[43m(\u001b[49m\u001b[43m)\u001b[49m\n",
            "File \u001b[0;32m/opt/conda/lib/python3.9/site-packages/pandas/core/apply.py:1123\u001b[0m, in \u001b[0;36mSeriesApply.apply\u001b[0;34m(self)\u001b[0m\n\u001b[1;32m   1120\u001b[0m     \u001b[38;5;28;01mreturn\u001b[39;00m \u001b[38;5;28mself\u001b[39m\u001b[38;5;241m.\u001b[39mapply_str()\n\u001b[1;32m   1122\u001b[0m \u001b[38;5;66;03m# self.f is Callable\u001b[39;00m\n\u001b[0;32m-> 1123\u001b[0m \u001b[38;5;28;01mreturn\u001b[39;00m \u001b[38;5;28;43mself\u001b[39;49m\u001b[38;5;241;43m.\u001b[39;49m\u001b[43mapply_standard\u001b[49m\u001b[43m(\u001b[49m\u001b[43m)\u001b[49m\n",
            "File \u001b[0;32m/opt/conda/lib/python3.9/site-packages/pandas/core/apply.py:1174\u001b[0m, in \u001b[0;36mSeriesApply.apply_standard\u001b[0;34m(self)\u001b[0m\n\u001b[1;32m   1172\u001b[0m     \u001b[38;5;28;01melse\u001b[39;00m:\n\u001b[1;32m   1173\u001b[0m         values \u001b[38;5;241m=\u001b[39m obj\u001b[38;5;241m.\u001b[39mastype(\u001b[38;5;28mobject\u001b[39m)\u001b[38;5;241m.\u001b[39m_values\n\u001b[0;32m-> 1174\u001b[0m         mapped \u001b[38;5;241m=\u001b[39m \u001b[43mlib\u001b[49m\u001b[38;5;241;43m.\u001b[39;49m\u001b[43mmap_infer\u001b[49m\u001b[43m(\u001b[49m\n\u001b[1;32m   1175\u001b[0m \u001b[43m            \u001b[49m\u001b[43mvalues\u001b[49m\u001b[43m,\u001b[49m\n\u001b[1;32m   1176\u001b[0m \u001b[43m            \u001b[49m\u001b[43mf\u001b[49m\u001b[43m,\u001b[49m\n\u001b[1;32m   1177\u001b[0m \u001b[43m            \u001b[49m\u001b[43mconvert\u001b[49m\u001b[38;5;241;43m=\u001b[39;49m\u001b[38;5;28;43mself\u001b[39;49m\u001b[38;5;241;43m.\u001b[39;49m\u001b[43mconvert_dtype\u001b[49m\u001b[43m,\u001b[49m\n\u001b[1;32m   1178\u001b[0m \u001b[43m        \u001b[49m\u001b[43m)\u001b[49m\n\u001b[1;32m   1180\u001b[0m \u001b[38;5;28;01mif\u001b[39;00m \u001b[38;5;28mlen\u001b[39m(mapped) \u001b[38;5;129;01mand\u001b[39;00m \u001b[38;5;28misinstance\u001b[39m(mapped[\u001b[38;5;241m0\u001b[39m], ABCSeries):\n\u001b[1;32m   1181\u001b[0m     \u001b[38;5;66;03m# GH#43986 Need to do list(mapped) in order to get treated as nested\u001b[39;00m\n\u001b[1;32m   1182\u001b[0m     \u001b[38;5;66;03m#  See also GH#25959 regarding EA support\u001b[39;00m\n\u001b[1;32m   1183\u001b[0m     \u001b[38;5;28;01mreturn\u001b[39;00m obj\u001b[38;5;241m.\u001b[39m_constructor_expanddim(\u001b[38;5;28mlist\u001b[39m(mapped), index\u001b[38;5;241m=\u001b[39mobj\u001b[38;5;241m.\u001b[39mindex)\n",
            "File \u001b[0;32m/opt/conda/lib/python3.9/site-packages/pandas/_libs/lib.pyx:2924\u001b[0m, in \u001b[0;36mpandas._libs.lib.map_infer\u001b[0;34m()\u001b[0m\n",
            "Cell \u001b[0;32mIn[8], line 5\u001b[0m, in \u001b[0;36m<lambda>\u001b[0;34m(x)\u001b[0m\n\u001b[1;32m      3\u001b[0m \u001b[38;5;28;01mfrom\u001b[39;00m \u001b[38;5;21;01mdatetime\u001b[39;00m \u001b[38;5;28;01mimport\u001b[39;00m datetime\n\u001b[1;32m      4\u001b[0m reference_date \u001b[38;5;241m=\u001b[39m datetime\u001b[38;5;241m.\u001b[39mnow()\n\u001b[0;32m----> 5\u001b[0m df[\u001b[38;5;124m'\u001b[39m\u001b[38;5;124mactual_date\u001b[39m\u001b[38;5;124m'\u001b[39m] \u001b[38;5;241m=\u001b[39m df[\u001b[38;5;124m'\u001b[39m\u001b[38;5;124mdate\u001b[39m\u001b[38;5;124m'\u001b[39m]\u001b[38;5;241m.\u001b[39mapply(\u001b[38;5;28;01mlambda\u001b[39;00m x: \u001b[43mdateparser\u001b[49m\u001b[38;5;241;43m.\u001b[39;49m\u001b[43mparse\u001b[49m\u001b[43m(\u001b[49m\u001b[43mx\u001b[49m\u001b[43m,\u001b[49m\u001b[43m \u001b[49m\u001b[43msettings\u001b[49m\u001b[38;5;241;43m=\u001b[39;49m\u001b[43m{\u001b[49m\u001b[38;5;124;43m'\u001b[39;49m\u001b[38;5;124;43mRELATIVE_BASE\u001b[39;49m\u001b[38;5;124;43m'\u001b[39;49m\u001b[43m:\u001b[49m\u001b[43m \u001b[49m\u001b[43mreference_date\u001b[49m\u001b[43m}\u001b[49m\u001b[43m)\u001b[49m)\n\u001b[1;32m      6\u001b[0m df\u001b[38;5;241m.\u001b[39mhead()\n",
            "File \u001b[0;32m/opt/conda/lib/python3.9/site-packages/dateparser/conf.py:93\u001b[0m, in \u001b[0;36mapply_settings.<locals>.wrapper\u001b[0;34m(*args, **kwargs)\u001b[0m\n\u001b[1;32m     90\u001b[0m \u001b[38;5;28;01mif\u001b[39;00m \u001b[38;5;129;01mnot\u001b[39;00m \u001b[38;5;28misinstance\u001b[39m(kwargs[\u001b[38;5;124m'\u001b[39m\u001b[38;5;124msettings\u001b[39m\u001b[38;5;124m'\u001b[39m], Settings):\n\u001b[1;32m     91\u001b[0m     \u001b[38;5;28;01mraise\u001b[39;00m \u001b[38;5;167;01mTypeError\u001b[39;00m(\u001b[38;5;124m\"\u001b[39m\u001b[38;5;124msettings can only be either dict or instance of Settings class\u001b[39m\u001b[38;5;124m\"\u001b[39m)\n\u001b[0;32m---> 93\u001b[0m \u001b[38;5;28;01mreturn\u001b[39;00m \u001b[43mf\u001b[49m\u001b[43m(\u001b[49m\u001b[38;5;241;43m*\u001b[39;49m\u001b[43margs\u001b[49m\u001b[43m,\u001b[49m\u001b[43m \u001b[49m\u001b[38;5;241;43m*\u001b[39;49m\u001b[38;5;241;43m*\u001b[39;49m\u001b[43mkwargs\u001b[49m\u001b[43m)\u001b[49m\n",
            "File \u001b[0;32m/opt/conda/lib/python3.9/site-packages/dateparser/__init__.py:61\u001b[0m, in \u001b[0;36mparse\u001b[0;34m(date_string, date_formats, languages, locales, region, settings, detect_languages_function)\u001b[0m\n\u001b[1;32m     57\u001b[0m \u001b[38;5;28;01mif\u001b[39;00m languages \u001b[38;5;129;01mor\u001b[39;00m locales \u001b[38;5;129;01mor\u001b[39;00m region \u001b[38;5;129;01mor\u001b[39;00m detect_languages_function \u001b[38;5;129;01mor\u001b[39;00m \u001b[38;5;129;01mnot\u001b[39;00m settings\u001b[38;5;241m.\u001b[39m_default:\n\u001b[1;32m     58\u001b[0m     parser \u001b[38;5;241m=\u001b[39m DateDataParser(languages\u001b[38;5;241m=\u001b[39mlanguages, locales\u001b[38;5;241m=\u001b[39mlocales,\n\u001b[1;32m     59\u001b[0m                             region\u001b[38;5;241m=\u001b[39mregion, settings\u001b[38;5;241m=\u001b[39msettings, detect_languages_function\u001b[38;5;241m=\u001b[39mdetect_languages_function)\n\u001b[0;32m---> 61\u001b[0m data \u001b[38;5;241m=\u001b[39m \u001b[43mparser\u001b[49m\u001b[38;5;241;43m.\u001b[39;49m\u001b[43mget_date_data\u001b[49m\u001b[43m(\u001b[49m\u001b[43mdate_string\u001b[49m\u001b[43m,\u001b[49m\u001b[43m \u001b[49m\u001b[43mdate_formats\u001b[49m\u001b[43m)\u001b[49m\n\u001b[1;32m     63\u001b[0m \u001b[38;5;28;01mif\u001b[39;00m data:\n\u001b[1;32m     64\u001b[0m     \u001b[38;5;28;01mreturn\u001b[39;00m data[\u001b[38;5;124m'\u001b[39m\u001b[38;5;124mdate_obj\u001b[39m\u001b[38;5;124m'\u001b[39m]\n",
            "File \u001b[0;32m/opt/conda/lib/python3.9/site-packages/dateparser/date.py:442\u001b[0m, in \u001b[0;36mDateDataParser.get_date_data\u001b[0;34m(self, date_string, date_formats)\u001b[0m\n\u001b[1;32m    399\u001b[0m \u001b[38;5;250m\u001b[39m\u001b[38;5;124;03m\"\"\"\u001b[39;00m\n\u001b[1;32m    400\u001b[0m \u001b[38;5;124;03mParse string representing date and/or time in recognizable localized formats.\u001b[39;00m\n\u001b[1;32m    401\u001b[0m \u001b[38;5;124;03mSupports parsing multiple languages and timezones.\u001b[39;00m\n\u001b[0;32m   (...)\u001b[0m\n\u001b[1;32m    439\u001b[0m \n\u001b[1;32m    440\u001b[0m \u001b[38;5;124;03m\"\"\"\u001b[39;00m\n\u001b[1;32m    441\u001b[0m \u001b[38;5;28;01mif\u001b[39;00m \u001b[38;5;129;01mnot\u001b[39;00m \u001b[38;5;28misinstance\u001b[39m(date_string, \u001b[38;5;28mstr\u001b[39m):\n\u001b[0;32m--> 442\u001b[0m     \u001b[38;5;28;01mraise\u001b[39;00m \u001b[38;5;167;01mTypeError\u001b[39;00m(\u001b[38;5;124m'\u001b[39m\u001b[38;5;124mInput type must be str\u001b[39m\u001b[38;5;124m'\u001b[39m)\n\u001b[1;32m    444\u001b[0m res \u001b[38;5;241m=\u001b[39m parse_with_formats(date_string, date_formats \u001b[38;5;129;01mor\u001b[39;00m [], \u001b[38;5;28mself\u001b[39m\u001b[38;5;241m.\u001b[39m_settings)\n\u001b[1;32m    445\u001b[0m \u001b[38;5;28;01mif\u001b[39;00m res[\u001b[38;5;124m'\u001b[39m\u001b[38;5;124mdate_obj\u001b[39m\u001b[38;5;124m'\u001b[39m]:\n",
            "\u001b[0;31mTypeError\u001b[0m: Input type must be str"
          ]
        }
      ],
      "execution_count": null,
      "metadata": {
        "noteable": {
          "cell_type": "code"
        },
        "ExecuteTime": {
          "end_time": "2023-07-31T01:57:53.047780+00:00",
          "start_time": "2023-07-31T01:57:45.481905+00:00"
        }
      },
      "id": "f2af6171-77a9-48c1-9c54-9a1753278107"
    },
    {
      "cell_type": "code",
      "source": [
        "df['date'].unique()"
      ],
      "outputs": [
        {
          "output_type": "execute_result",
          "execution_count": null,
          "data": {
            "text/plain": "array(['NaT'], dtype='datetime64[ns]')"
          },
          "metadata": {}
        }
      ],
      "execution_count": null,
      "metadata": {
        "noteable": {
          "cell_type": "code"
        },
        "ExecuteTime": {
          "end_time": "2023-07-31T01:58:08.033222+00:00",
          "start_time": "2023-07-31T01:58:07.874306+00:00"
        }
      },
      "id": "accebeee-3ad9-4708-9071-67754b1854b1"
    },
    {
      "cell_type": "code",
      "source": [
        "df = df.dropna(subset=['date'])\n",
        "df['actual_date'] = df['date'].apply(lambda x: dateparser.parse(x, settings={'RELATIVE_BASE': reference_date}))\n",
        "df.head()"
      ],
      "outputs": [
        {
          "output_type": "display_data",
          "data": {
            "application/vnd.dataresource+json": {
              "schema": {
                "fields": [
                  {
                    "name": "index",
                    "type": "integer"
                  },
                  {
                    "name": "name",
                    "type": "string"
                  },
                  {
                    "name": "date",
                    "type": "datetime"
                  },
                  {
                    "name": "comment",
                    "type": "string"
                  },
                  {
                    "name": "response",
                    "type": "string"
                  },
                  {
                    "name": "location",
                    "type": "string"
                  },
                  {
                    "name": "processed_comment",
                    "type": "string"
                  },
                  {
                    "name": "sentiment",
                    "type": "string"
                  },
                  {
                    "name": "sentiment_value",
                    "type": "integer"
                  },
                  {
                    "name": "month",
                    "type": "number"
                  },
                  {
                    "name": "day_of_week",
                    "type": "number"
                  },
                  {
                    "name": "actual_date",
                    "type": "datetime"
                  }
                ],
                "primaryKey": [
                  "index"
                ],
                "pandas_version": "1.4.0"
              },
              "data": [],
              "datalink": {
                "display_id": "05cf27a0-4597-4c5a-9575-243335f905ae"
              }
            }
          },
          "metadata": {
            "application/vnd.dataresource+json": {
              "datalink": {
                "dataframe_info": {
                  "default_index_used": true,
                  "orig_size_bytes": 0,
                  "orig_num_rows": 0,
                  "orig_num_cols": 11,
                  "truncated_string_columns": [],
                  "truncated_size_bytes": 0,
                  "truncated_num_rows": 0,
                  "truncated_num_cols": 11
                },
                "dx_settings": {
                  "NUM_PAST_SAMPLES_TRACKED": 3,
                  "ENABLE_DATALINK": true,
                  "DISPLAY_MODE": "simple",
                  "GENERATE_DEX_METADATA": false,
                  "STRINGIFY_INDEX_VALUES": false,
                  "ALLOW_NOTEABLE_ATTRS": true,
                  "DISPLAY_MAX_COLUMNS": 100,
                  "HTML_TABLE_SCHEMA": false,
                  "SAMPLING_FACTOR": 0.1,
                  "LOG_LEVEL": 30,
                  "ENABLE_ASSIGNMENT": true,
                  "FLATTEN_INDEX_VALUES": false,
                  "DEV_MODE": false,
                  "COLUMN_SAMPLING_METHOD": "outer",
                  "FLATTEN_COLUMN_VALUES": true,
                  "DISPLAY_MAX_ROWS": 50000,
                  "ROW_SAMPLING_METHOD": "random",
                  "RANDOM_STATE": 12648430,
                  "DB_LOCATION": ":memory:",
                  "STRINGIFY_COLUMN_VALUES": true,
                  "SAMPLING_METHOD": "random",
                  "MAX_STRING_LENGTH": 250,
                  "MAX_RENDER_SIZE_BYTES": 104857600,
                  "RESET_INDEX_VALUES": false
                },
                "display_id": "05cf27a0-4597-4c5a-9575-243335f905ae",
                "applied_filters": [],
                "sample_history": [],
                "sampling_time": "2023-07-31T01:59:16.628263",
                "variable_name": "df",
                "user_variable_name": "df"
              },
              "display_id": "05cf27a0-4597-4c5a-9575-243335f905ae"
            }
          }
        }
      ],
      "execution_count": null,
      "metadata": {
        "noteable": {
          "cell_type": "code"
        },
        "ExecuteTime": {
          "end_time": "2023-07-31T01:59:16.786825+00:00",
          "start_time": "2023-07-31T01:59:16.550762+00:00"
        },
        "datalink": {
          "05cf27a0-4597-4c5a-9575-243335f905ae": {
            "applied_filters": [],
            "dataframe_info": {
              "default_index_used": true,
              "orig_num_cols": 11,
              "orig_num_rows": 0,
              "orig_size_bytes": 0,
              "truncated_num_cols": 11,
              "truncated_num_rows": 0,
              "truncated_size_bytes": 0,
              "truncated_string_columns": []
            },
            "display_id": "05cf27a0-4597-4c5a-9575-243335f905ae",
            "dx_settings": {
              "ALLOW_NOTEABLE_ATTRS": true,
              "COLUMN_SAMPLING_METHOD": "outer",
              "DB_LOCATION": ":memory:",
              "DEV_MODE": false,
              "DISPLAY_MAX_COLUMNS": 100,
              "DISPLAY_MAX_ROWS": 50000,
              "DISPLAY_MODE": "simple",
              "ENABLE_ASSIGNMENT": true,
              "ENABLE_DATALINK": true,
              "FLATTEN_COLUMN_VALUES": true,
              "FLATTEN_INDEX_VALUES": false,
              "GENERATE_DEX_METADATA": false,
              "HTML_TABLE_SCHEMA": false,
              "LOG_LEVEL": 30,
              "MAX_RENDER_SIZE_BYTES": 104857600,
              "MAX_STRING_LENGTH": 250,
              "NUM_PAST_SAMPLES_TRACKED": 3,
              "RANDOM_STATE": 12648430,
              "RESET_INDEX_VALUES": false,
              "ROW_SAMPLING_METHOD": "random",
              "SAMPLING_FACTOR": 0.1,
              "SAMPLING_METHOD": "random",
              "STRINGIFY_COLUMN_VALUES": true,
              "STRINGIFY_INDEX_VALUES": false
            },
            "sample_history": [],
            "sampling_time": "2023-07-31T01:59:16.628263",
            "user_variable_name": "df",
            "variable_name": "df"
          }
        }
      },
      "id": "36db33fc-40e0-4021-b9d3-41d0081ee552"
    },
    {
      "cell_type": "code",
      "source": [],
      "outputs": [
        {
          "output_type": "error",
          "ename": "IndexError",
          "evalue": "index 0 is out of bounds for axis 0 with size 0",
          "traceback": [
            "\u001b[0;31m---------------------------------------------------------------------------\u001b[0m",
            "\u001b[0;31mIndexError\u001b[0m                                Traceback (most recent call last)",
            "Cell \u001b[0;32mIn[11], line 3\u001b[0m\n\u001b[1;32m      1\u001b[0m df[\u001b[38;5;124m'\u001b[39m\u001b[38;5;124myear_month\u001b[39m\u001b[38;5;124m'\u001b[39m] \u001b[38;5;241m=\u001b[39m df[\u001b[38;5;124m'\u001b[39m\u001b[38;5;124mactual_date\u001b[39m\u001b[38;5;124m'\u001b[39m]\u001b[38;5;241m.\u001b[39mdt\u001b[38;5;241m.\u001b[39mto_period(\u001b[38;5;124m'\u001b[39m\u001b[38;5;124mM\u001b[39m\u001b[38;5;124m'\u001b[39m)\n\u001b[1;32m      2\u001b[0m plt\u001b[38;5;241m.\u001b[39mfigure(figsize\u001b[38;5;241m=\u001b[39m(\u001b[38;5;241m10\u001b[39m,\u001b[38;5;241m6\u001b[39m))\n\u001b[0;32m----> 3\u001b[0m \u001b[43mdf\u001b[49m\u001b[43m[\u001b[49m\u001b[38;5;124;43m'\u001b[39;49m\u001b[38;5;124;43myear_month\u001b[39;49m\u001b[38;5;124;43m'\u001b[39;49m\u001b[43m]\u001b[49m\u001b[38;5;241;43m.\u001b[39;49m\u001b[43mvalue_counts\u001b[49m\u001b[43m(\u001b[49m\u001b[43m)\u001b[49m\u001b[38;5;241;43m.\u001b[39;49m\u001b[43msort_index\u001b[49m\u001b[43m(\u001b[49m\u001b[43m)\u001b[49m\u001b[38;5;241;43m.\u001b[39;49m\u001b[43mplot\u001b[49m\u001b[43m(\u001b[49m\u001b[43mkind\u001b[49m\u001b[38;5;241;43m=\u001b[39;49m\u001b[38;5;124;43m'\u001b[39;49m\u001b[38;5;124;43mbar\u001b[39;49m\u001b[38;5;124;43m'\u001b[39;49m\u001b[43m)\u001b[49m\n\u001b[1;32m      4\u001b[0m plt\u001b[38;5;241m.\u001b[39mxticks(rotation\u001b[38;5;241m=\u001b[39m\u001b[38;5;241m90\u001b[39m)\n\u001b[1;32m      5\u001b[0m plt\u001b[38;5;241m.\u001b[39mtitle(\u001b[38;5;124m'\u001b[39m\u001b[38;5;124mDistribution of Reviews Over Time\u001b[39m\u001b[38;5;124m'\u001b[39m)\n",
            "File \u001b[0;32m/opt/conda/lib/python3.9/site-packages/pandas/plotting/_core.py:1000\u001b[0m, in \u001b[0;36mPlotAccessor.__call__\u001b[0;34m(self, *args, **kwargs)\u001b[0m\n\u001b[1;32m    997\u001b[0m             label_name \u001b[38;5;241m=\u001b[39m label_kw \u001b[38;5;129;01mor\u001b[39;00m data\u001b[38;5;241m.\u001b[39mcolumns\n\u001b[1;32m    998\u001b[0m             data\u001b[38;5;241m.\u001b[39mcolumns \u001b[38;5;241m=\u001b[39m label_name\n\u001b[0;32m-> 1000\u001b[0m \u001b[38;5;28;01mreturn\u001b[39;00m \u001b[43mplot_backend\u001b[49m\u001b[38;5;241;43m.\u001b[39;49m\u001b[43mplot\u001b[49m\u001b[43m(\u001b[49m\u001b[43mdata\u001b[49m\u001b[43m,\u001b[49m\u001b[43m \u001b[49m\u001b[43mkind\u001b[49m\u001b[38;5;241;43m=\u001b[39;49m\u001b[43mkind\u001b[49m\u001b[43m,\u001b[49m\u001b[43m \u001b[49m\u001b[38;5;241;43m*\u001b[39;49m\u001b[38;5;241;43m*\u001b[39;49m\u001b[43mkwargs\u001b[49m\u001b[43m)\u001b[49m\n",
            "File \u001b[0;32m/opt/conda/lib/python3.9/site-packages/pandas/plotting/_matplotlib/__init__.py:71\u001b[0m, in \u001b[0;36mplot\u001b[0;34m(data, kind, **kwargs)\u001b[0m\n\u001b[1;32m     69\u001b[0m         kwargs[\u001b[38;5;124m\"\u001b[39m\u001b[38;5;124max\u001b[39m\u001b[38;5;124m\"\u001b[39m] \u001b[38;5;241m=\u001b[39m \u001b[38;5;28mgetattr\u001b[39m(ax, \u001b[38;5;124m\"\u001b[39m\u001b[38;5;124mleft_ax\u001b[39m\u001b[38;5;124m\"\u001b[39m, ax)\n\u001b[1;32m     70\u001b[0m plot_obj \u001b[38;5;241m=\u001b[39m PLOT_CLASSES[kind](data, \u001b[38;5;241m*\u001b[39m\u001b[38;5;241m*\u001b[39mkwargs)\n\u001b[0;32m---> 71\u001b[0m \u001b[43mplot_obj\u001b[49m\u001b[38;5;241;43m.\u001b[39;49m\u001b[43mgenerate\u001b[49m\u001b[43m(\u001b[49m\u001b[43m)\u001b[49m\n\u001b[1;32m     72\u001b[0m plot_obj\u001b[38;5;241m.\u001b[39mdraw()\n\u001b[1;32m     73\u001b[0m \u001b[38;5;28;01mreturn\u001b[39;00m plot_obj\u001b[38;5;241m.\u001b[39mresult\n",
            "File \u001b[0;32m/opt/conda/lib/python3.9/site-packages/pandas/plotting/_matplotlib/core.py:459\u001b[0m, in \u001b[0;36mMPLPlot.generate\u001b[0;34m(self)\u001b[0m\n\u001b[1;32m    457\u001b[0m \u001b[38;5;28;01mfor\u001b[39;00m ax \u001b[38;5;129;01min\u001b[39;00m \u001b[38;5;28mself\u001b[39m\u001b[38;5;241m.\u001b[39maxes:\n\u001b[1;32m    458\u001b[0m     \u001b[38;5;28mself\u001b[39m\u001b[38;5;241m.\u001b[39m_post_plot_logic_common(ax, \u001b[38;5;28mself\u001b[39m\u001b[38;5;241m.\u001b[39mdata)\n\u001b[0;32m--> 459\u001b[0m     \u001b[38;5;28;43mself\u001b[39;49m\u001b[38;5;241;43m.\u001b[39;49m\u001b[43m_post_plot_logic\u001b[49m\u001b[43m(\u001b[49m\u001b[43max\u001b[49m\u001b[43m,\u001b[49m\u001b[43m \u001b[49m\u001b[38;5;28;43mself\u001b[39;49m\u001b[38;5;241;43m.\u001b[39;49m\u001b[43mdata\u001b[49m\u001b[43m)\u001b[49m\n",
            "File \u001b[0;32m/opt/conda/lib/python3.9/site-packages/pandas/plotting/_matplotlib/core.py:1739\u001b[0m, in \u001b[0;36mBarPlot._post_plot_logic\u001b[0;34m(self, ax, data)\u001b[0m\n\u001b[1;32m   1736\u001b[0m \u001b[38;5;28;01melse\u001b[39;00m:\n\u001b[1;32m   1737\u001b[0m     str_index \u001b[38;5;241m=\u001b[39m [pprint_thing(key) \u001b[38;5;28;01mfor\u001b[39;00m key \u001b[38;5;129;01min\u001b[39;00m \u001b[38;5;28mrange\u001b[39m(data\u001b[38;5;241m.\u001b[39mshape[\u001b[38;5;241m0\u001b[39m])]\n\u001b[0;32m-> 1739\u001b[0m s_edge \u001b[38;5;241m=\u001b[39m \u001b[38;5;28;43mself\u001b[39;49m\u001b[38;5;241;43m.\u001b[39;49m\u001b[43max_pos\u001b[49m\u001b[43m[\u001b[49m\u001b[38;5;241;43m0\u001b[39;49m\u001b[43m]\u001b[49m \u001b[38;5;241m-\u001b[39m \u001b[38;5;241m0.25\u001b[39m \u001b[38;5;241m+\u001b[39m \u001b[38;5;28mself\u001b[39m\u001b[38;5;241m.\u001b[39mlim_offset\n\u001b[1;32m   1740\u001b[0m e_edge \u001b[38;5;241m=\u001b[39m \u001b[38;5;28mself\u001b[39m\u001b[38;5;241m.\u001b[39max_pos[\u001b[38;5;241m-\u001b[39m\u001b[38;5;241m1\u001b[39m] \u001b[38;5;241m+\u001b[39m \u001b[38;5;241m0.25\u001b[39m \u001b[38;5;241m+\u001b[39m \u001b[38;5;28mself\u001b[39m\u001b[38;5;241m.\u001b[39mbar_width \u001b[38;5;241m+\u001b[39m \u001b[38;5;28mself\u001b[39m\u001b[38;5;241m.\u001b[39mlim_offset\n\u001b[1;32m   1742\u001b[0m \u001b[38;5;28mself\u001b[39m\u001b[38;5;241m.\u001b[39m_decorate_ticks(ax, \u001b[38;5;28mself\u001b[39m\u001b[38;5;241m.\u001b[39m_get_index_name(), str_index, s_edge, e_edge)\n",
            "\u001b[0;31mIndexError\u001b[0m: index 0 is out of bounds for axis 0 with size 0"
          ]
        },
        {
          "output_type": "display_data",
          "data": {
            "image/png": "[encoded data removed]"
          },
          "metadata": {}
        }
      ],
      "execution_count": null,
      "metadata": {
        "noteable": {
          "cell_type": "code"
        },
        "ExecuteTime": {
          "end_time": "2023-07-31T01:59:34.896631+00:00",
          "start_time": "2023-07-31T01:59:34.030116+00:00"
        }
      },
      "id": "d242f193-4f99-4e44-a3dd-e199f38662e2"
    },
    {
      "cell_type": "code",
      "source": [
        "df['response'].unique()"
      ],
      "outputs": [
        {
          "output_type": "execute_result",
          "execution_count": null,
          "data": {
            "text/plain": "array([], dtype=object)"
          },
          "metadata": {}
        }
      ],
      "execution_count": null,
      "metadata": {
        "noteable": {
          "cell_type": "code"
        },
        "ExecuteTime": {
          "end_time": "2023-07-31T02:03:26.977166+00:00",
          "start_time": "2023-07-31T02:03:26.818237+00:00"
        }
      },
      "id": "db02845f-e3b9-40bd-9b11-240f8e5c3a73"
    },
    {
      "cell_type": "code",
      "source": [
        "plt.figure(figsize=(10,6))\n",
        "sns.countplot(data=df, x='location', hue='sentiment')\n",
        "plt.xticks(rotation=90)\n",
        "plt.title('Distribution of Sentiments across Different Locations')\n",
        "plt.show()"
      ],
      "outputs": [
        {
          "output_type": "error",
          "ename": "ValueError",
          "evalue": "min() arg is an empty sequence",
          "traceback": [
            "\u001b[0;31m---------------------------------------------------------------------------\u001b[0m",
            "\u001b[0;31mValueError\u001b[0m                                Traceback (most recent call last)",
            "Cell \u001b[0;32mIn[13], line 2\u001b[0m\n\u001b[1;32m      1\u001b[0m plt\u001b[38;5;241m.\u001b[39mfigure(figsize\u001b[38;5;241m=\u001b[39m(\u001b[38;5;241m10\u001b[39m,\u001b[38;5;241m6\u001b[39m))\n\u001b[0;32m----> 2\u001b[0m \u001b[43msns\u001b[49m\u001b[38;5;241;43m.\u001b[39;49m\u001b[43mcountplot\u001b[49m\u001b[43m(\u001b[49m\u001b[43mdata\u001b[49m\u001b[38;5;241;43m=\u001b[39;49m\u001b[43mdf\u001b[49m\u001b[43m,\u001b[49m\u001b[43m \u001b[49m\u001b[43mx\u001b[49m\u001b[38;5;241;43m=\u001b[39;49m\u001b[38;5;124;43m'\u001b[39;49m\u001b[38;5;124;43mlocation\u001b[39;49m\u001b[38;5;124;43m'\u001b[39;49m\u001b[43m,\u001b[49m\u001b[43m \u001b[49m\u001b[43mhue\u001b[49m\u001b[38;5;241;43m=\u001b[39;49m\u001b[38;5;124;43m'\u001b[39;49m\u001b[38;5;124;43msentiment\u001b[39;49m\u001b[38;5;124;43m'\u001b[39;49m\u001b[43m)\u001b[49m\n\u001b[1;32m      3\u001b[0m plt\u001b[38;5;241m.\u001b[39mxticks(rotation\u001b[38;5;241m=\u001b[39m\u001b[38;5;241m90\u001b[39m)\n\u001b[1;32m      4\u001b[0m plt\u001b[38;5;241m.\u001b[39mtitle(\u001b[38;5;124m'\u001b[39m\u001b[38;5;124mDistribution of Sentiments across Different Locations\u001b[39m\u001b[38;5;124m'\u001b[39m)\n",
            "File \u001b[0;32m/opt/conda/lib/python3.9/site-packages/seaborn/categorical.py:2939\u001b[0m, in \u001b[0;36mcountplot\u001b[0;34m(data, x, y, hue, order, hue_order, orient, color, palette, saturation, width, dodge, ax, **kwargs)\u001b[0m\n\u001b[1;32m   2936\u001b[0m \u001b[38;5;28;01melif\u001b[39;00m x \u001b[38;5;129;01mis\u001b[39;00m \u001b[38;5;129;01mnot\u001b[39;00m \u001b[38;5;28;01mNone\u001b[39;00m \u001b[38;5;129;01mand\u001b[39;00m y \u001b[38;5;129;01mis\u001b[39;00m \u001b[38;5;129;01mnot\u001b[39;00m \u001b[38;5;28;01mNone\u001b[39;00m:\n\u001b[1;32m   2937\u001b[0m     \u001b[38;5;28;01mraise\u001b[39;00m \u001b[38;5;167;01mValueError\u001b[39;00m(\u001b[38;5;124m\"\u001b[39m\u001b[38;5;124mCannot pass values for both `x` and `y`\u001b[39m\u001b[38;5;124m\"\u001b[39m)\n\u001b[0;32m-> 2939\u001b[0m plotter \u001b[38;5;241m=\u001b[39m \u001b[43m_CountPlotter\u001b[49m\u001b[43m(\u001b[49m\n\u001b[1;32m   2940\u001b[0m \u001b[43m    \u001b[49m\u001b[43mx\u001b[49m\u001b[43m,\u001b[49m\u001b[43m \u001b[49m\u001b[43my\u001b[49m\u001b[43m,\u001b[49m\u001b[43m \u001b[49m\u001b[43mhue\u001b[49m\u001b[43m,\u001b[49m\u001b[43m \u001b[49m\u001b[43mdata\u001b[49m\u001b[43m,\u001b[49m\u001b[43m \u001b[49m\u001b[43morder\u001b[49m\u001b[43m,\u001b[49m\u001b[43m \u001b[49m\u001b[43mhue_order\u001b[49m\u001b[43m,\u001b[49m\n\u001b[1;32m   2941\u001b[0m \u001b[43m    \u001b[49m\u001b[43mestimator\u001b[49m\u001b[43m,\u001b[49m\u001b[43m \u001b[49m\u001b[43merrorbar\u001b[49m\u001b[43m,\u001b[49m\u001b[43m \u001b[49m\u001b[43mn_boot\u001b[49m\u001b[43m,\u001b[49m\u001b[43m \u001b[49m\u001b[43munits\u001b[49m\u001b[43m,\u001b[49m\u001b[43m \u001b[49m\u001b[43mseed\u001b[49m\u001b[43m,\u001b[49m\n\u001b[1;32m   2942\u001b[0m \u001b[43m    \u001b[49m\u001b[43morient\u001b[49m\u001b[43m,\u001b[49m\u001b[43m \u001b[49m\u001b[43mcolor\u001b[49m\u001b[43m,\u001b[49m\u001b[43m \u001b[49m\u001b[43mpalette\u001b[49m\u001b[43m,\u001b[49m\u001b[43m \u001b[49m\u001b[43msaturation\u001b[49m\u001b[43m,\u001b[49m\n\u001b[1;32m   2943\u001b[0m \u001b[43m    \u001b[49m\u001b[43mwidth\u001b[49m\u001b[43m,\u001b[49m\u001b[43m \u001b[49m\u001b[43merrcolor\u001b[49m\u001b[43m,\u001b[49m\u001b[43m \u001b[49m\u001b[43merrwidth\u001b[49m\u001b[43m,\u001b[49m\u001b[43m \u001b[49m\u001b[43mcapsize\u001b[49m\u001b[43m,\u001b[49m\u001b[43m \u001b[49m\u001b[43mdodge\u001b[49m\n\u001b[1;32m   2944\u001b[0m \u001b[43m\u001b[49m\u001b[43m)\u001b[49m\n\u001b[1;32m   2946\u001b[0m plotter\u001b[38;5;241m.\u001b[39mvalue_label \u001b[38;5;241m=\u001b[39m \u001b[38;5;124m\"\u001b[39m\u001b[38;5;124mcount\u001b[39m\u001b[38;5;124m\"\u001b[39m\n\u001b[1;32m   2948\u001b[0m \u001b[38;5;28;01mif\u001b[39;00m ax \u001b[38;5;129;01mis\u001b[39;00m \u001b[38;5;28;01mNone\u001b[39;00m:\n",
            "File \u001b[0;32m/opt/conda/lib/python3.9/site-packages/seaborn/categorical.py:1532\u001b[0m, in \u001b[0;36m_BarPlotter.__init__\u001b[0;34m(self, x, y, hue, data, order, hue_order, estimator, errorbar, n_boot, units, seed, orient, color, palette, saturation, width, errcolor, errwidth, capsize, dodge)\u001b[0m\n\u001b[1;32m   1529\u001b[0m \u001b[38;5;250m\u001b[39m\u001b[38;5;124;03m\"\"\"Initialize the plotter.\"\"\"\u001b[39;00m\n\u001b[1;32m   1530\u001b[0m \u001b[38;5;28mself\u001b[39m\u001b[38;5;241m.\u001b[39mestablish_variables(x, y, hue, data, orient,\n\u001b[1;32m   1531\u001b[0m                          order, hue_order, units)\n\u001b[0;32m-> 1532\u001b[0m \u001b[38;5;28;43mself\u001b[39;49m\u001b[38;5;241;43m.\u001b[39;49m\u001b[43mestablish_colors\u001b[49m\u001b[43m(\u001b[49m\u001b[43mcolor\u001b[49m\u001b[43m,\u001b[49m\u001b[43m \u001b[49m\u001b[43mpalette\u001b[49m\u001b[43m,\u001b[49m\u001b[43m \u001b[49m\u001b[43msaturation\u001b[49m\u001b[43m)\u001b[49m\n\u001b[1;32m   1533\u001b[0m \u001b[38;5;28mself\u001b[39m\u001b[38;5;241m.\u001b[39mestimate_statistic(estimator, errorbar, n_boot, seed)\n\u001b[1;32m   1535\u001b[0m \u001b[38;5;28mself\u001b[39m\u001b[38;5;241m.\u001b[39mdodge \u001b[38;5;241m=\u001b[39m dodge\n",
            "File \u001b[0;32m/opt/conda/lib/python3.9/site-packages/seaborn/categorical.py:707\u001b[0m, in \u001b[0;36m_CategoricalPlotter.establish_colors\u001b[0;34m(self, color, palette, saturation)\u001b[0m\n\u001b[1;32m    705\u001b[0m \u001b[38;5;66;03m# Determine the gray color to use for the lines framing the plot\u001b[39;00m\n\u001b[1;32m    706\u001b[0m light_vals \u001b[38;5;241m=\u001b[39m [rgb_to_hls(\u001b[38;5;241m*\u001b[39mc)[\u001b[38;5;241m1\u001b[39m] \u001b[38;5;28;01mfor\u001b[39;00m c \u001b[38;5;129;01min\u001b[39;00m rgb_colors]\n\u001b[0;32m--> 707\u001b[0m lum \u001b[38;5;241m=\u001b[39m \u001b[38;5;28;43mmin\u001b[39;49m\u001b[43m(\u001b[49m\u001b[43mlight_vals\u001b[49m\u001b[43m)\u001b[49m \u001b[38;5;241m*\u001b[39m \u001b[38;5;241m.6\u001b[39m\n\u001b[1;32m    708\u001b[0m gray \u001b[38;5;241m=\u001b[39m mpl\u001b[38;5;241m.\u001b[39mcolors\u001b[38;5;241m.\u001b[39mrgb2hex((lum, lum, lum))\n\u001b[1;32m    710\u001b[0m \u001b[38;5;66;03m# Assign object attributes\u001b[39;00m\n",
            "\u001b[0;31mValueError\u001b[0m: min() arg is an empty sequence"
          ]
        },
        {
          "output_type": "display_data",
          "data": {
            "text/plain": "<Figure size 1000x600 with 0 Axes>"
          },
          "metadata": {}
        }
      ],
      "execution_count": null,
      "metadata": {
        "noteable": {
          "cell_type": "code"
        },
        "ExecuteTime": {
          "end_time": "2023-07-31T02:03:46.464268+00:00",
          "start_time": "2023-07-31T02:03:45.907341+00:00"
        }
      },
      "id": "f73f4682-1295-4536-b404-efbfaeba2e94"
    }
  ],
  "metadata": {
    "noteable-chatgpt": {
      "create_notebook": {
        "openai_conversation_id": "ce0a3a41-60e1-5459-83d1-22edc832458a",
        "openai_ephemeral_user_id": "920acc09-9816-50d7-92e7-ee3f5eb7a259",
        "openai_subdivision1_iso_code": "US-TX"
      }
    },
    "kernel_info": {
      "name": "python3"
    },
    "noteable": {
      "last_transaction_id": "597cfcc2-9ef2-4d1c-abf1-9bc000eaf40b",
      "last_delta_id": "58f1b6a7-eac5-4c3f-864e-50a2959b6e47"
    },
    "kernelspec": {
      "display_name": "Python 3.9",
      "language": "python",
      "name": "python3"
    },
    "selected_hardware_size": "small",
    "nteract": {
      "version": "noteable@2.9.0"
    }
  },
  "nbformat": 4,
  "nbformat_minor": 5
}