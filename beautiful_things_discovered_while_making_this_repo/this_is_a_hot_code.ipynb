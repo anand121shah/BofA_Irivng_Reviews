{
  "nbformat": 4,
  "nbformat_minor": 0,
  "metadata": {
    "colab": {
      "provenance": [],
      "authorship_tag": "ABX9TyOtygXhvWv+NCZcK3lnnNf+",
      "include_colab_link": true
    },
    "kernelspec": {
      "name": "python3",
      "display_name": "Python 3"
    },
    "language_info": {
      "name": "python"
    }
  },
  "cells": [
    {
      "cell_type": "markdown",
      "metadata": {
        "id": "view-in-github",
        "colab_type": "text"
      },
      "source": [
        "<a href=\"https://colab.research.google.com/github/as-bestinclass/BofA_Irivng_Reviews/blob/main/BofA_Irivng_Reviews/this_is_a_sexy_code.ipynb\" target=\"_parent\"><img src=\"https://colab.research.google.com/assets/colab-badge.svg\" alt=\"Open In Colab\"/></a>"
      ]
    },
    {
      "cell_type": "code",
      "source": [
        "notebook_file = \"/content/l.ipynb\""
      ],
      "metadata": {
        "id": "7WkNRH_Y7o3G"
      },
      "execution_count": null,
      "outputs": []
    },
    {
      "cell_type": "code",
      "execution_count": null,
      "metadata": {
        "colab": {
          "base_uri": "https://localhost:8080/"
        },
        "id": "amoyCXbb62rO",
        "outputId": "34c9f9b6-2c32-42c2-c20d-c8f5885a0586"
      },
      "outputs": [
        {
          "output_type": "stream",
          "name": "stdout",
          "text": [
            "Dependencies:\n",
            "textblob\n",
            "sklearn.linear_model\n",
            "sklearn.tree\n",
            "dateutil.relativedelta\n",
            "sklearn.feature_extraction.text\n",
            "re\n",
            "matplotlib.pyplot\n",
            "sklearn.model_selection\n",
            "sklearn.svm\n",
            "sklearn.ensemble\n",
            "sklearn.metrics\n",
            "dateutil.parser\n",
            "pandas\n",
            "urllib.parse\n"
          ]
        }
      ],
      "source": [
        "import nbformat\n",
        "import json\n",
        "\n",
        "def extract_dependencies(notebook_path):\n",
        "    with open(notebook_path, \"r\", encoding=\"utf-8\") as file:\n",
        "        notebook = nbformat.read(file, as_version=4)\n",
        "\n",
        "    dependencies = set()\n",
        "\n",
        "    for cell in notebook.cells:\n",
        "        if cell.cell_type == \"code\" and \"source\" in cell:\n",
        "            code_lines = cell[\"source\"].split(\"\\n\")\n",
        "            for line in code_lines:\n",
        "                if line.startswith(\"import\"):\n",
        "                    modules = line.split(\"import\")[1:]\n",
        "                    for module in modules:\n",
        "                        module_name = module.strip().split()[0]\n",
        "                        dependencies.add(module_name)\n",
        "                elif line.startswith(\"from\"):\n",
        "                    module = line.split(\"import\")[0].replace(\"from\", \"\").strip()\n",
        "                    module_name = module.split()[0]\n",
        "                    dependencies.add(module_name)\n",
        "\n",
        "    return dependencies\n",
        "\n",
        "\n",
        "# Usage example\n",
        "notebook_file = \"l.ipynb\"\n",
        "dependencies = extract_dependencies(notebook_file)\n",
        "\n",
        "# Print the list of dependencies\n",
        "print(\"Dependencies:\")\n",
        "for dependency in dependencies:\n",
        "    print(dependency)\n"
      ]
    }
  ]
}